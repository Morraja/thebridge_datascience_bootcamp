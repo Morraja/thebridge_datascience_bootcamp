{
 "cells": [
  {
   "cell_type": "markdown",
   "metadata": {},
   "source": [
    "![imagen](./img/ejercicios.png)"
   ]
  },
  {
   "cell_type": "markdown",
   "metadata": {},
   "source": [
    "# Ejercicios Flujos de control"
   ]
  },
  {
   "cell_type": "markdown",
   "metadata": {},
   "source": [
    "## Ejercicio 1\n",
    "Declara una variable numérica que será una hora cualquiera del día. Implementa mediante sentencias `if/elif/else` la siguiente casuística:\n",
    "\n",
    "* Si es entre las 0 y las 8, print \"Durmiendo\"\n",
    "* Si es entre las 9 y las 18, print \"Trabajando\"\n",
    "* Si es entre las 19 y las 21, print \"Clase\"\n",
    "* Si es entre las 22 y las 24, print \"Descanso\"\n",
    "* En cualquier otro caso, print \"Transporte o error\""
   ]
  },
  {
   "cell_type": "code",
   "execution_count": 12,
   "metadata": {},
   "outputs": [
    {
     "name": "stdin",
     "output_type": "stream",
     "text": [
      "¿Qué hora es? 18\n"
     ]
    },
    {
     "name": "stdout",
     "output_type": "stream",
     "text": [
      "Trabajando\n"
     ]
    }
   ],
   "source": [
    "horario = int(input(\"¿Qué hora es?\"))\n",
    "\n",
    "if 0 <= horario <= 8:\n",
    "    print(\"Durmiendo\")\n",
    "\n",
    "elif 9 <= horario <= 19:\n",
    "    print(\"Trabajando\")\n",
    "\n",
    "elif 19 <= horario <= 21:\n",
    "    print(\"Clase\")\n",
    "\n",
    "elif 22 <= horario <= 24:\n",
    "    print(\"Descanso\")\n",
    "    \n",
    "else:\n",
    "    print(\"Transporte o error\")"
   ]
  },
  {
   "cell_type": "markdown",
   "metadata": {},
   "source": [
    "## Ejercicio 2\n",
    "En este ejercicio vamos a implementar un calculador de precios de casas muy sencillo. Tenemos las siguientes variables:\n",
    "\n",
    "> superficie\n",
    ">\n",
    "> distrito\n",
    "\n",
    "Implementa mediante sentencias `if/elif/else` la siguiente casuística:\n",
    "\n",
    "1. Si el distrito es \"Moncloa\" o \"Centro\", y además la superficie es superior a 100 metros cuadrados, el precio de la casa es de 1000\n",
    "2. Si el distrito es \"Salamanca\", y además la superficie de la casa es al menos de 150 metros, el precio de la casa es de 1500\n",
    "3. Si el distrito no es \"Retiro\" y la superficie está entre 60 y 80 metros, el precio es de 600\n",
    "4. En cualquier otro caso, el precio será de 0"
   ]
  },
  {
   "cell_type": "code",
   "execution_count": 42,
   "metadata": {},
   "outputs": [
    {
     "name": "stdin",
     "output_type": "stream",
     "text": [
      "Introduce 'Superficie' 22\n",
      "Introduce 'Distrito' Salamanca\n"
     ]
    },
    {
     "name": "stdout",
     "output_type": "stream",
     "text": [
      "El precio de la vivienda es 0\n"
     ]
    }
   ],
   "source": [
    "superficie=float(input(\"Introduce 'Superficie'\"))\n",
    "distrito=input(\"Introduce 'Distrito'\")\n",
    "\n",
    "if (distrito==\"Moncloa\" or distrito==\"Centro\") and superficie > 100:\n",
    "    print(\"El precio de la vivienda es de 1000 EUR.\")\n",
    "    \n",
    "if (distrito==\"Salamanca\") and (superficie >= 150):\n",
    "    print(\"El precio de la vivienda es de 1500 EUR.\")\n",
    "\n",
    "if distrito == (not \"Retiro\") and  60 <= superficie >= 80:\n",
    "    print(\"El precio de la vivienda es de 600 EUR.\")\n",
    "\n",
    "else:\n",
    "    print(\"El precio de la vivienda es 0\")\n",
    "    "
   ]
  },
  {
   "cell_type": "markdown",
   "metadata": {},
   "source": [
    "## Ejercicio 3\n",
    "En este ejercicio vamos a realizar un programa muy parecido. Para este caso queremos que se cumplan las siguientes condiciones:\n",
    "\n",
    "1. Primero se compruebe si el distrito es \"Retiro\". Si es asi, que imprima \"Distrito Retiro\", y si no, \"Otro distrito\"\n",
    "2. Si el distrito es \"Retiro\", comprueba si si la superficie es mayor de 100 metros cuadrados. En tal caso, que imprima un precio de 1000, y si no, de 500.\n",
    "\n",
    "Hay que usar `ifs` anidados"
   ]
  },
  {
   "cell_type": "code",
   "execution_count": 11,
   "metadata": {},
   "outputs": [
    {
     "name": "stdin",
     "output_type": "stream",
     "text": [
      "Intruduzca el distrito Retiro\n"
     ]
    },
    {
     "name": "stdout",
     "output_type": "stream",
     "text": [
      "Distrito Retiro\n"
     ]
    },
    {
     "name": "stdin",
     "output_type": "stream",
     "text": [
      "¿Cuántos metros cuadrados tiene? 60\n"
     ]
    },
    {
     "name": "stdout",
     "output_type": "stream",
     "text": [
      "El precio de la vivienda es de 500 EUR\n"
     ]
    }
   ],
   "source": [
    "distrito3=input(\"Intruduzca el distrito\")\n",
    "if distrito3 == \"Retiro\":\n",
    "    print(\"Distrito Retiro\")\n",
    "    superficie=int(input(\"¿Cuántos metros cuadrados tiene?\"))\n",
    "    if superficie > 100:\n",
    "        print(\"El precio de la vivienda es de 1000 EUR\")\n",
    "    else:\n",
    "            print(\"El precio de la vivienda es de 500 EUR\")\n",
    "else:\n",
    "    print(\"Otro distrito\")\n"
   ]
  },
  {
   "cell_type": "markdown",
   "metadata": {},
   "source": [
    "## Ejercicio 4\n",
    "Escribe un programa que tenga dos variables: un numero, y una lista numérica. El programa debe recorrer la lista e imprimir por pantalla cada elemento de la lista multiplicado por el número"
   ]
  },
  {
   "cell_type": "code",
   "execution_count": 16,
   "metadata": {},
   "outputs": [
    {
     "name": "stdout",
     "output_type": "stream",
     "text": [
      "100\n",
      "200\n",
      "300\n",
      "400\n"
     ]
    }
   ],
   "source": [
    "numero_ppal=10\n",
    "lista_numerica=[10,20,30,40]\n",
    "\n",
    "for i in lista_numerica:\n",
    "    print(i * numero_ppal)    \n",
    "        "
   ]
  },
  {
   "cell_type": "markdown",
   "metadata": {},
   "source": [
    "## Ejercicio 5\n",
    "Imprime por pantalla los números -10 al -1. En ese orden. Consulta [la documentación](https://www.w3schools.com/python/ref_func_range.asp) de `range`"
   ]
  },
  {
   "cell_type": "code",
   "execution_count": 2,
   "metadata": {},
   "outputs": [
    {
     "data": {
      "text/plain": [
       "[-10, -9, -8, -7, -6, -5, -4, -3, -2, -1]"
      ]
     },
     "execution_count": 2,
     "metadata": {},
     "output_type": "execute_result"
    }
   ],
   "source": [
    "list(range(-10, 0))\n"
   ]
  },
  {
   "cell_type": "markdown",
   "metadata": {},
   "source": [
    "## Ejercicio 6\n",
    "Dada la siguiente lista:\n",
    "\n",
    "> list1 = [12, 15, 32, 42, 55, 75, 122, 132, 150, 180, 200]\n",
    "\n",
    "Implementa un programa que los recorra e imprima por pantalla todos los divisibles por 5. Si nos encontramos con alguno que sea mayor que 150, detener el bucle."
   ]
  },
  {
   "cell_type": "code",
   "execution_count": 6,
   "metadata": {},
   "outputs": [
    {
     "name": "stdout",
     "output_type": "stream",
     "text": [
      "\n",
      " 15\n",
      "\n",
      " 55\n",
      "\n",
      " 75\n",
      "\n",
      " 150\n"
     ]
    }
   ],
   "source": [
    "list1 = [12, 15, 32, 42, 55, 75, 122, 132, 150, 180, 200]\n",
    "\n",
    "for i, numero in enumerate(list1):\n",
    "    if numero % 5 == 0:\n",
    "        if numero > 150:\n",
    "            break\n",
    "        print('\\n', numero)"
   ]
  },
  {
   "cell_type": "markdown",
   "metadata": {},
   "source": [
    "## Ejercicio 7\n",
    "Escribe un programa en Python que imprima por pantalla todos los números divisibles por 5 y divisibles por 7, dentro del rango de valores (150, 350)"
   ]
  },
  {
   "cell_type": "code",
   "execution_count": 90,
   "metadata": {},
   "outputs": [
    {
     "name": "stdout",
     "output_type": "stream",
     "text": [
      "\n",
      " 150\n",
      "\n",
      " 154\n",
      "\n",
      " 155\n",
      "\n",
      " 160\n",
      "\n",
      " 161\n",
      "\n",
      " 165\n",
      "\n",
      " 168\n",
      "\n",
      " 170\n",
      "\n",
      " 175\n",
      "\n",
      " 175\n",
      "\n",
      " 180\n",
      "\n",
      " 182\n",
      "\n",
      " 185\n",
      "\n",
      " 189\n",
      "\n",
      " 190\n",
      "\n",
      " 195\n",
      "\n",
      " 196\n",
      "\n",
      " 200\n",
      "\n",
      " 203\n",
      "\n",
      " 205\n",
      "\n",
      " 210\n",
      "\n",
      " 210\n",
      "\n",
      " 215\n",
      "\n",
      " 217\n",
      "\n",
      " 220\n",
      "\n",
      " 224\n",
      "\n",
      " 225\n",
      "\n",
      " 230\n",
      "\n",
      " 231\n",
      "\n",
      " 235\n",
      "\n",
      " 238\n",
      "\n",
      " 240\n",
      "\n",
      " 245\n",
      "\n",
      " 245\n",
      "\n",
      " 250\n",
      "\n",
      " 252\n",
      "\n",
      " 255\n",
      "\n",
      " 259\n",
      "\n",
      " 260\n",
      "\n",
      " 265\n",
      "\n",
      " 266\n",
      "\n",
      " 270\n",
      "\n",
      " 273\n",
      "\n",
      " 275\n",
      "\n",
      " 280\n",
      "\n",
      " 280\n",
      "\n",
      " 285\n",
      "\n",
      " 287\n",
      "\n",
      " 290\n",
      "\n",
      " 294\n",
      "\n",
      " 295\n",
      "\n",
      " 300\n",
      "\n",
      " 301\n",
      "\n",
      " 305\n",
      "\n",
      " 308\n",
      "\n",
      " 310\n",
      "\n",
      " 315\n",
      "\n",
      " 315\n",
      "\n",
      " 320\n",
      "\n",
      " 322\n",
      "\n",
      " 325\n",
      "\n",
      " 329\n",
      "\n",
      " 330\n",
      "\n",
      " 335\n",
      "\n",
      " 336\n",
      "\n",
      " 340\n",
      "\n",
      " 343\n",
      "\n",
      " 345\n",
      "\n",
      " 350\n",
      "\n",
      " 350\n",
      "\n",
      "Fin del programa\n"
     ]
    }
   ],
   "source": [
    "listado=list(range(150,350+1))\n",
    "\n",
    "for i, resultado in enumerate(listado):\n",
    "    if resultado % 5 == 0:\n",
    "        print('\\n', resultado)\n",
    "    if resultado % 7 == 0:\n",
    "        print('\\n', resultado)\n",
    "        \n",
    "print(\"\\nFin del programa\")\n",
    "    "
   ]
  },
  {
   "cell_type": "markdown",
   "metadata": {},
   "source": [
    "## Ejercicio 8\n",
    "Implementa un programa que imprima por pantalla el siguiente patrón\n",
    "\n",
    "5 4 3 2 1 \n",
    "\n",
    "4 3 2 1 \n",
    "\n",
    "3 2 1 \n",
    "\n",
    "2 1 \n",
    "\n",
    "1\n",
    "\n",
    "NOTA: NO hay lineas en blanco entre una línea y otra."
   ]
  },
  {
   "cell_type": "code",
   "execution_count": 7,
   "metadata": {},
   "outputs": [
    {
     "name": "stdout",
     "output_type": "stream",
     "text": [
      "\n",
      " [5, 4, 3, 2, 1]\n"
     ]
    }
   ],
   "source": [
    "lista = [1,2,3,4,5]\n",
    "lista.sort(reverse=True)\n",
    "print(\"\\n\", lista)\n",
    "\n",
    "\n",
    "\n",
    "\n"
   ]
  },
  {
   "cell_type": "raw",
   "metadata": {},
   "source": [
    "## Ejercicio 9\n",
    "En este ejercicio vamos a crear un pequeño juego. Se trata de intentar adivinar un numero del 1 al 5. Tenemos dos intentos para acertar. Pasos a seguir:\n",
    "\n",
    "1. Ya viene implementado cómo obtener un número aleatorio del 1 al 5\n",
    "2. Tendrás que declarar en una variable el numero de vidas, y mediante un bucle while, comprobar que todavia quedan vidas.\n",
    "3. Dentro del bucle, obtener el valor del usuario y comprobar si es ese el numero a adivinar. Si no, actualizar las vidas.\n",
    "4. Si acertamos, salimos del bucle e imprimimos por pantalla \"You win\". Y si perdemos también salimos del bucle, pero en este caso imprimimos por pantalla \"You lose\".\n",
    "\n",
    "TIP: te puede resultar útil usar la sentencia `else` cuando acabe el bucle `while`. Lo que haya dentro de ese `else` se ejecutará una vez acabe la ejecución del `while`. Lo podrás usar para cuando pierdas."
   ]
  },
  {
   "cell_type": "code",
   "execution_count": 174,
   "metadata": {},
   "outputs": [
    {
     "name": "stdout",
     "output_type": "stream",
     "text": [
      "OK\n"
     ]
    }
   ],
   "source": []
  },
  {
   "cell_type": "code",
   "execution_count": 6,
   "metadata": {},
   "outputs": [
    {
     "name": "stdin",
     "output_type": "stream",
     "text": [
      "Escribe un número del 1 al 5: 2\n"
     ]
    },
    {
     "name": "stdout",
     "output_type": "stream",
     "text": [
      "El número era: 3 --You loose--\n"
     ]
    },
    {
     "name": "stdin",
     "output_type": "stream",
     "text": [
      "Escribe un número del 1 al 5: 2\n"
     ]
    },
    {
     "name": "stdout",
     "output_type": "stream",
     "text": [
      "El número era: 2 --You win--\n"
     ]
    },
    {
     "name": "stdin",
     "output_type": "stream",
     "text": [
      "Escribe un número del 1 al 5: 2\n"
     ]
    },
    {
     "name": "stdout",
     "output_type": "stream",
     "text": [
      "El número era: 4 --You loose--\n"
     ]
    }
   ],
   "source": [
    "## Juego de adivinar número\n",
    "from random import randint\n",
    "\n",
    "vidas=2\n",
    "\n",
    "\n",
    "while 0< vidas <=2:\n",
    "    random_number = randint(1, 5)\n",
    "    number_user = int(input(\"Escribe un número del 1 al 5:\"))\n",
    "\n",
    "    if number_user == random_number:\n",
    "        print(\"El número era:\", random_number, \"--You win--\")\n",
    "    else:\n",
    "        print(\"El número era:\", random_number, \"--You loose--\")\n",
    "        vidas=vidas-1\n",
    "    "
   ]
  },
  {
   "cell_type": "markdown",
   "metadata": {},
   "source": [
    "## Ejercicios extra"
   ]
  },
  {
   "cell_type": "markdown",
   "metadata": {},
   "source": [
    "Más ejercicios en [este link](https://www.w3resource.com/python-exercises/python-conditional-statements-and-loop-exercises.php)\n",
    "\n",
    "Y [aquí](https://erlerobotics.gitbooks.io/erle-robotics-learning-python-gitbook-free/loops/exercises_loops.html)"
   ]
  }
 ],
 "metadata": {
  "kernelspec": {
   "display_name": "Python 3",
   "language": "python",
   "name": "python3"
  },
  "language_info": {
   "codemirror_mode": {
    "name": "ipython",
    "version": 3
   },
   "file_extension": ".py",
   "mimetype": "text/x-python",
   "name": "python",
   "nbconvert_exporter": "python",
   "pygments_lexer": "ipython3",
   "version": "3.8.5"
  }
 },
 "nbformat": 4,
 "nbformat_minor": 4
}
