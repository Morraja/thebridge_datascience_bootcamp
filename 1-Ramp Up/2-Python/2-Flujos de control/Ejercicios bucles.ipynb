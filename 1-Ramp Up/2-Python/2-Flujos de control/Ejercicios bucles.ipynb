{
 "cells": [
  {
   "cell_type": "markdown",
   "metadata": {},
   "source": [
    "![imagen](./img/ejercicios.png)"
   ]
  },
  {
   "cell_type": "markdown",
   "metadata": {},
   "source": [
    "## Ejercicio 1\n",
    "1. Elimina todos los VW de la siguiente lista. Crea una lista nueva para ello.\n",
    "2. Hazlo de otra manera. Crea una lista nueva vacía, y ve añadiendo todos los que no sean VW\n",
    "3. En vez de `for`, usa un bucle `while`\n",
    "> ejer_1 = [\"VW\", \"Audi\", \"Renault\", \"VW\", \"BMW\"]"
   ]
  },
  {
   "cell_type": "code",
   "execution_count": 45,
   "metadata": {},
   "outputs": [
    {
     "name": "stdout",
     "output_type": "stream",
     "text": [
      "['Audi', 'Renault', 'VW', 'BMW']\n",
      "['Audi', 'Renault', 'BMW']\n",
      "[['VW', 'Audi', 'Renault', 'VW', 'BMW']]\n"
     ]
    }
   ],
   "source": [
    "ejer_1 = [\"VW\", \"Audi\", \"Renault\", \"VW\", \"BMW\"]\n",
    "\n",
    "while \"VW\" in ejer_1:\n",
    "    ejer_1.remove(\"VW\")\n",
    "    print(ejer_1)\n",
    "    \n",
    "lista_nueva=[]\n",
    "\n",
    "\n",
    "ejer_2 = [\"VW\", \"Audi\", \"Renault\", \"VW\", \"BMW\"]\n",
    "lista_nueva.append(ejer_2)\n",
    "\n",
    "print(lista_nueva)\n",
    "    \n",
    "\n"
   ]
  },
  {
   "cell_type": "markdown",
   "metadata": {},
   "source": [
    "## Ejercicio 2\n",
    "Imprime por pantalla la siguiente secuencia: 10, 9, 8.... -8, -9, -10"
   ]
  },
  {
   "cell_type": "code",
   "execution_count": 25,
   "metadata": {},
   "outputs": [
    {
     "data": {
      "text/plain": [
       "[-10, -9, -8, -7, -6, -5, -4, -3, -2, -1, 0, 1, 2, 3, 4, 5, 6, 7, 8, 9, 10]"
      ]
     },
     "execution_count": 25,
     "metadata": {},
     "output_type": "execute_result"
    }
   ],
   "source": [
    "list(range(-10,11))\n",
    "\n",
    "\n",
    "\n",
    "\n",
    "        \n",
    "\n",
    "\n"
   ]
  },
  {
   "cell_type": "markdown",
   "metadata": {},
   "source": [
    "## Ejercicio 3\n",
    "1. Escribe un programa que vaya pidiendo numeros al usuario. Cuando el usuario introduzca el 0, el programa tiene que imprimir por pantalla el sumatorio de todos los numeros positivos introducidos\n",
    "2. Además de la suma, queremos que imprima también una lista con todos los números."
   ]
  },
  {
   "cell_type": "code",
   "execution_count": 3,
   "metadata": {},
   "outputs": [
    {
     "name": "stdout",
     "output_type": "stream",
     "text": [
      "SUMA DE NÚMEROS\n"
     ]
    },
    {
     "name": "stdin",
     "output_type": "stream",
     "text": [
      "Escriba un número:\n",
      " 2\n",
      "Escriba otro número:\n",
      " 3\n",
      "Escriba otro número:\n",
      " 4\n",
      "Escriba otro número:\n",
      " 0\n"
     ]
    },
    {
     "name": "stdout",
     "output_type": "stream",
     "text": [
      "Resultado 9\n",
      "Lista numeros [2, 3, 4]\n"
     ]
    }
   ],
   "source": [
    "print(\"SUMA DE NÚMEROS\")\n",
    "numero = int(input(\"Escriba un número:\\n\"))\n",
    "\n",
    "suma = 0\n",
    "lista_numeros=[]\n",
    "\n",
    "while numero > 0:\n",
    "    suma = suma + numero\n",
    "    lista_numeros.append(numero)\n",
    "    numero= int(input(\"Escriba otro número:\\n\"))\n",
    "\n",
    "print(\"Resultado\", suma)\n",
    "print(\"Lista numeros\", lista_numeros)\n"
   ]
  },
  {
   "cell_type": "markdown",
   "metadata": {},
   "source": [
    "## Ejercicio 4\n",
    "Escribir un programa que vaya pidiendo la cantidad de compras que hace un cliente en una página web. El programa tiene que pedir cantidades hasta que se ingresa un 0. Igualmente cuando una de las cantiaddes introducida es negativa, hay que imprimir por pantalla un mensaje:\n",
    "\n",
    "\"Numero negativo, por favor, introduzca un numero positivo\""
   ]
  },
  {
   "cell_type": "code",
   "execution_count": 2,
   "metadata": {},
   "outputs": [
    {
     "name": "stdout",
     "output_type": "stream",
     "text": [
      "COMPRAS\n"
     ]
    },
    {
     "name": "stdin",
     "output_type": "stream",
     "text": [
      "Escriba una cantidad:\n",
      " 3\n",
      "Escriba otro número:\n",
      " 3\n",
      "Escriba otro número:\n",
      " 6\n",
      "Escriba otro número:\n",
      " -9\n",
      "Numero negativo, por favor introduzca un número positivo:\n",
      " 7\n",
      "Escriba otro número:\n",
      " 0\n"
     ]
    },
    {
     "name": "stdout",
     "output_type": "stream",
     "text": [
      "Resultado 19\n",
      "Lista numeros [3, 3, 6, 7]\n"
     ]
    }
   ],
   "source": [
    "print(\"COMPRAS\")\n",
    "numero = int(input(\"Escriba una cantidad:\\n\"))\n",
    "\n",
    "suma = 0\n",
    "lista_numeros=[]\n",
    "\n",
    "\n",
    "while numero != 0:\n",
    "    if numero < 0:\n",
    "        numero = int(input(\"Numero negativo, por favor introduzca un número positivo:\\n\"))\n",
    "    else:\n",
    "        suma = suma + numero\n",
    "     \n",
    "        lista_numeros.append(numero)\n",
    "        numero= int(input(\"Escriba otro número:\\n\"))\n",
    "\n",
    "    \n",
    "print(\"Resultado\", suma)\n",
    "print(\"Lista numeros\", lista_numeros)\n"
   ]
  },
  {
   "cell_type": "markdown",
   "metadata": {},
   "source": [
    "## Ejercicio 5\n",
    "Imprime por pantalla la palabra \"Python\", pero empezando con la última letra."
   ]
  },
  {
   "cell_type": "code",
   "execution_count": null,
   "metadata": {},
   "outputs": [],
   "source": []
  },
  {
   "cell_type": "markdown",
   "metadata": {},
   "source": [
    "## Ejercicio 6\n",
    "Escribe un programa que calcule la cantidad de veces que está la letra \"m\" o \"M\" en la frase:\n",
    "> \"En un lugar de La Mancha, de cuyo nombre no quiero acordarme\""
   ]
  },
  {
   "cell_type": "code",
   "execution_count": null,
   "metadata": {},
   "outputs": [],
   "source": [
    "frase = (\"En un lugar de La Mancha, de cuyo nombre no quiero acordarme.\")\n"
   ]
  },
  {
   "cell_type": "markdown",
   "metadata": {},
   "source": [
    "## Ejercicio 7\n",
    "Crea un programa que simule la siguiente pirámide. Para ello, el programa tiene que pedirle al usuario un caracter cualquiera. El número de filas es fijo, 5.\n",
    "\n",
    "W W W W W \n",
    "\n",
    "W W W W \n",
    "\n",
    "W W W \n",
    "\n",
    "W W \n",
    "\n",
    "W \n",
    "\n",
    "\n"
   ]
  },
  {
   "cell_type": "code",
   "execution_count": 6,
   "metadata": {},
   "outputs": [
    {
     "name": "stdin",
     "output_type": "stream",
     "text": [
      "Escribe un número: 7\n"
     ]
    },
    {
     "name": "stdout",
     "output_type": "stream",
     "text": [
      " 1 2 3 4 5 6 7 \n",
      " 1 2 3 4 5 6 \n",
      " 1 2 3 4 5 \n",
      " 1 2 3 4 \n",
      " 1 2 3 \n",
      " 1 2 \n",
      " 1 \n"
     ]
    }
   ],
   "source": []
  },
  {
   "cell_type": "markdown",
   "metadata": {},
   "source": [
    " ## Ejercicio 8\n",
    " Crea un programa que en función de un input numérico que inserte el usuario, imprima por pantalla la pirámide de ejemplo. Si el input es 6, tendrá 6 pisos, pero si introduce 10, la pirámide tendrá 10 pisos.\n",
    " \n",
    " 1 2 3 4 5 6\n",
    " \n",
    " 1 2 3 4 5\n",
    " \n",
    " 1 2 3 4\n",
    " \n",
    " 1 2 3\n",
    " \n",
    " 1 2\n",
    " \n",
    " 1"
   ]
  },
  {
   "cell_type": "code",
   "execution_count": 8,
   "metadata": {},
   "outputs": [
    {
     "name": "stdin",
     "output_type": "stream",
     "text": [
      "Escribe un número: 20\n"
     ]
    },
    {
     "name": "stdout",
     "output_type": "stream",
     "text": [
      " 1 2 3 4 5 6 7 8 9 10 11 12 13 14 15 16 17 18 19 20 \n",
      " 1 2 3 4 5 6 7 8 9 10 11 12 13 14 15 16 17 18 19 \n",
      " 1 2 3 4 5 6 7 8 9 10 11 12 13 14 15 16 17 18 \n",
      " 1 2 3 4 5 6 7 8 9 10 11 12 13 14 15 16 17 \n",
      " 1 2 3 4 5 6 7 8 9 10 11 12 13 14 15 16 \n",
      " 1 2 3 4 5 6 7 8 9 10 11 12 13 14 15 \n",
      " 1 2 3 4 5 6 7 8 9 10 11 12 13 14 \n",
      " 1 2 3 4 5 6 7 8 9 10 11 12 13 \n",
      " 1 2 3 4 5 6 7 8 9 10 11 12 \n",
      " 1 2 3 4 5 6 7 8 9 10 11 \n",
      " 1 2 3 4 5 6 7 8 9 10 \n",
      " 1 2 3 4 5 6 7 8 9 \n",
      " 1 2 3 4 5 6 7 8 \n",
      " 1 2 3 4 5 6 7 \n",
      " 1 2 3 4 5 6 \n",
      " 1 2 3 4 5 \n",
      " 1 2 3 4 \n",
      " 1 2 3 \n",
      " 1 2 \n",
      " 1 \n"
     ]
    }
   ],
   "source": [
    "numero = int(input(\"Escribe un número:\"))\n",
    "\n",
    "for i in range(numero):\n",
    "    fila = ' '\n",
    "    for j in range(numero-i):\n",
    "        fila = fila + str(j+1) + \" \"\n",
    "    print(fila)"
   ]
  },
  {
   "cell_type": "markdown",
   "metadata": {},
   "source": [
    "## Ejercicio 9\n",
    "Replica el siguiente patrón"
   ]
  },
  {
   "cell_type": "raw",
   "metadata": {},
   "source": []
  },
  {
   "cell_type": "markdown",
   "metadata": {},
   "source": [
    "## Ejercicio 10\n",
    "Imprime toda la secuencia de numeros del 1 al 10, excepto el 3, 4 y 9. Impleméntalo de dos maneras diferentes"
   ]
  },
  {
   "cell_type": "code",
   "execution_count": null,
   "metadata": {},
   "outputs": [],
   "source": []
  },
  {
   "cell_type": "markdown",
   "metadata": {},
   "source": [
    "## Ejercicio 11\n",
    "Suponiendo que siempre se cumple que las dos listas del ejercicio son iguales de tamaño, implementa un programa que calcule el ratio ingreso/gasto de cada elemento, y lo guarde en una nueva lista. Si hubiese algún problema con los datos, hay que almacenar un mensaje de error en la lista del resultado. Usa `try/except`\n",
    "> ingresos = [100, 200, 500, 100, 600]\n",
    ">\n",
    "> gastos = [50, 20, 70, 0, 25]"
   ]
  },
  {
   "cell_type": "code",
   "execution_count": null,
   "metadata": {},
   "outputs": [],
   "source": []
  },
  {
   "cell_type": "markdown",
   "metadata": {},
   "source": [
    "## Ejercicio 12\n",
    "Muy parecido al anterior, aunque ahora tendremos que excepcionar más tipos de errores con estos nuevos datos. En este caso, almacena un mensaje diferente en la lista resultado, para cada error.\n",
    "\n",
    "> ingresos = [100, \"HHH\", 500, 100, 600, 900, 150]\n",
    ">\n",
    "> gastos = [50, 20, 70, 0, 25]"
   ]
  },
  {
   "cell_type": "code",
   "execution_count": null,
   "metadata": {},
   "outputs": [],
   "source": []
  }
 ],
 "metadata": {
  "kernelspec": {
   "display_name": "Python 3",
   "language": "python",
   "name": "python3"
  },
  "language_info": {
   "codemirror_mode": {
    "name": "ipython",
    "version": 3
   },
   "file_extension": ".py",
   "mimetype": "text/x-python",
   "name": "python",
   "nbconvert_exporter": "python",
   "pygments_lexer": "ipython3",
   "version": "3.8.5"
  }
 },
 "nbformat": 4,
 "nbformat_minor": 4
}
